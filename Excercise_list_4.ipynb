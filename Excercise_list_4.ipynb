{
 "cells": [
  {
   "cell_type": "code",
   "execution_count": 6,
   "metadata": {},
   "outputs": [],
   "source": [
    "from scipy.signal import residuez\n",
    "import numpy as np\n",
    "\n",
    "from functions.deconv_m import deconv_m"
   ]
  },
  {
   "cell_type": "markdown",
   "metadata": {},
   "source": [
    "P4.10"
   ]
  },
  {
   "cell_type": "code",
   "execution_count": 7,
   "metadata": {},
   "outputs": [
    {
     "name": "stdout",
     "output_type": "stream",
     "text": [
      "[ 1. -1.  2. -2.]\n",
      "[-1  0  1  2]\n",
      "[0. 0. 0. 0. 3. 3.]\n",
      "[-2 -1  0  1  2  3]\n"
     ]
    }
   ],
   "source": [
    "nb = np.arange(-2, 4)\n",
    "b = np.array([1, 1, 1, 1, 1, 1])\n",
    "na = np.arange(-1, 2) \n",
    "a = np.array([1, 2, 1])\n",
    "\n",
    "# Run the function\n",
    "p, np, r, nr = deconv_m(b, nb, a, na)\n",
    "\n",
    "print(p)\n",
    "print(np)\n",
    "print(r)\n",
    "print(nr)"
   ]
  },
  {
   "cell_type": "markdown",
   "metadata": {},
   "source": [
    "P4.11"
   ]
  },
  {
   "cell_type": "code",
   "execution_count": 28,
   "metadata": {},
   "outputs": [
    {
     "name": "stdout",
     "output_type": "stream",
     "text": [
      "[ 2.70000000e+01 -1.00000000e+01 -1.62409768e-14]\n",
      "[0.25 0.5  2.  ]\n",
      "[-16.]\n"
     ]
    }
   ],
   "source": [
    "b1 = [1,-1,-4,4] \n",
    "a1 = [1,-11/4,13/8,-1/4]\n",
    "\n",
    "r1,p1,k1 = residuez(b1,a1)\n",
    "\n",
    "print(r1)\n",
    "print(p1)\n",
    "print(k1)"
   ]
  },
  {
   "cell_type": "code",
   "execution_count": 29,
   "metadata": {},
   "outputs": [
    {
     "name": "stdout",
     "output_type": "stream",
     "text": [
      "[ 28.14285714 -12.66666667   1.52380952]\n",
      "[0.25 0.5  2.  ]\n",
      "[-16.]\n"
     ]
    }
   ],
   "source": [
    "b2 = [1,1,-4,4] \n",
    "a2 = [1,-11/4,13/8,-1/4]\n",
    "\n",
    "r2,p2,k2 = residuez(b2,a2)\n",
    "\n",
    "print(r2)\n",
    "print(p2)\n",
    "print(k2)"
   ]
  },
  {
   "cell_type": "code",
   "execution_count": 30,
   "metadata": {},
   "outputs": [
    {
     "name": "stdout",
     "output_type": "stream",
     "text": [
      "[3.35587219+5.76587594j 3.35587219-5.76587594j 0.53825562+0.j        ]\n",
      "[0.1278287 +0.16245294j 0.1278287 -0.16245294j 3.74434261+0.j        ]\n",
      "[-6.25]\n"
     ]
    }
   ],
   "source": [
    "b3 = [1,-3,4,1] \n",
    "a3 = [1,-4,1,-0.16]\n",
    "\n",
    "r3,p3,k3 = residuez(b3,a3)\n",
    "\n",
    "print(r3)\n",
    "print(p3)\n",
    "print(k3)"
   ]
  },
  {
   "cell_type": "code",
   "execution_count": 35,
   "metadata": {},
   "outputs": [
    {
     "name": "stdout",
     "output_type": "stream",
     "text": [
      "[ 3.55271368e-15-0.j -4.00000000e+00+0.j  4.00000000e+00+0.j]\n",
      "[-0.5+0.j -0.5+0.j -1. +0.j]\n",
      "[]\n"
     ]
    }
   ],
   "source": [
    "b4 = [0,0,1] \n",
    "a4 = [1,2,1.25,0.25]\n",
    "\n",
    "r4,p4,k4 = residuez(b4,a4)\n",
    "\n",
    "print(r4)\n",
    "print(p4)\n",
    "print(k4)"
   ]
  },
  {
   "cell_type": "code",
   "execution_count": 36,
   "metadata": {},
   "outputs": [
    {
     "name": "stdout",
     "output_type": "stream",
     "text": [
      "[-4.+0.j  2.+0.j  4.+0.j -2.+0.j]\n",
      "[ 0.5+0.j  0.5+0.j -0.5+0.j -0.5+0.j]\n",
      "[]\n"
     ]
    }
   ],
   "source": [
    "b5 = [0,0,0,1]\n",
    "a5 = np.convolve([1,0,-0.25],[1,0,-0.25])\n",
    "\n",
    "r5,p5,k5 = residuez(b5,a5)\n",
    "\n",
    "print(r5)\n",
    "print(p5)\n",
    "print(k5)"
   ]
  }
 ],
 "metadata": {
  "kernelspec": {
   "display_name": "kedro-environment",
   "language": "python",
   "name": "python3"
  },
  "language_info": {
   "codemirror_mode": {
    "name": "ipython",
    "version": 3
   },
   "file_extension": ".py",
   "mimetype": "text/x-python",
   "name": "python",
   "nbconvert_exporter": "python",
   "pygments_lexer": "ipython3",
   "version": "3.10.10"
  }
 },
 "nbformat": 4,
 "nbformat_minor": 2
}
